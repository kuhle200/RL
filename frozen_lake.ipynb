{
 "cells": [
  {
   "cell_type": "code",
   "execution_count": 39,
   "id": "a604e48a",
   "metadata": {},
   "outputs": [],
   "source": [
    "import numpy as np\n",
    "import gym\n",
    "import random\n",
    "import time\n",
    "from IPython.display import clear_output"
   ]
  },
  {
   "cell_type": "code",
   "execution_count": 40,
   "id": "983da2a9",
   "metadata": {},
   "outputs": [],
   "source": [
    "env = gym.make(\"FrozenLake-v1\")"
   ]
  },
  {
   "cell_type": "code",
   "execution_count": 41,
   "id": "b6c4bb54",
   "metadata": {
    "scrolled": true
   },
   "outputs": [],
   "source": [
    "action_space_size = env.action_space.n\n",
    "state_space_size = env.observation_space.n\n",
    "q_table = np.zeros((state_space_size,action_space_size))"
   ]
  },
  {
   "cell_type": "code",
   "execution_count": 42,
   "id": "1fc6b8fd",
   "metadata": {},
   "outputs": [],
   "source": [
    "num_episodes = 10000\n",
    "max_steps_per_episode = 100\n",
    "\n",
    "learning_rate = 0.1\n",
    "discount_factor = 0.99\n",
    "\n",
    "exploration_rate = 1\n",
    "max_exploration_rate = 1\n",
    "min_exploration_rate = 0.001\n",
    "exploration_decay_rate = 0.001"
   ]
  },
  {
   "cell_type": "code",
   "execution_count": 43,
   "id": "3f7da81b",
   "metadata": {},
   "outputs": [
    {
     "name": "stdout",
     "output_type": "stream",
     "text": [
      "1000 : 0.05200000000000004\n",
      "2000 : 0.21200000000000016\n",
      "3000 : 0.45100000000000035\n",
      "4000 : 0.5440000000000004\n",
      "5000 : 0.6920000000000005\n",
      "6000 : 0.6970000000000005\n",
      "7000 : 0.7300000000000005\n",
      "8000 : 0.7380000000000005\n",
      "9000 : 0.7060000000000005\n",
      "10000 : 0.7160000000000005\n",
      "\n",
      "\n",
      "************the updated Q_table**************\n",
      "[[0.52309369 0.46029748 0.45153097 0.45000715]\n",
      " [0.30114307 0.32770515 0.31468257 0.48173902]\n",
      " [0.40550254 0.4032784  0.4104397  0.43521966]\n",
      " [0.29302752 0.3015174  0.24383406 0.40470216]\n",
      " [0.54548912 0.40658582 0.46005282 0.34840971]\n",
      " [0.         0.         0.         0.        ]\n",
      " [0.14238577 0.13648606 0.37504802 0.09838243]\n",
      " [0.         0.         0.         0.        ]\n",
      " [0.41532084 0.41883935 0.33816037 0.56487909]\n",
      " [0.41308245 0.64068778 0.33203834 0.43682771]\n",
      " [0.63097623 0.3825795  0.33487664 0.33247613]\n",
      " [0.         0.         0.         0.        ]\n",
      " [0.         0.         0.         0.        ]\n",
      " [0.56644764 0.44488021 0.73791332 0.42840888]\n",
      " [0.72696156 0.89673449 0.71057259 0.72464182]\n",
      " [0.         0.         0.         0.        ]]\n"
     ]
    }
   ],
   "source": [
    "rewards_all_episodes = []\n",
    "\n",
    "#Q-learning algorithm\n",
    "\n",
    "for episodes in range(num_episodes):\n",
    "    state = env.reset()\n",
    "    \n",
    "    done = False\n",
    "    rewards_current_episode = 0\n",
    "    \n",
    "    \n",
    "    for step in range(max_steps_per_episode):\n",
    "        \n",
    "        #balancing exploratision and exploitation\n",
    "        exploration_rate_threshold = random.uniform(0,1)\n",
    "        \n",
    "        \n",
    "        if(exploration_rate_threshold > exploration_rate):\n",
    "            action = np.argmax(q_table[state,:])\n",
    "        \n",
    "        else:\n",
    "            action = env.action_space.sample()\n",
    "            \n",
    "        new_state, reward, done , info = env.step(action)\n",
    "        \n",
    "        #Update the Q_table\n",
    "        q_table[state, action] = q_table[state, action]*(1 - learning_rate)+ learning_rate*(reward + discount_factor *np.max(q_table[new_state,:]))\n",
    "        \n",
    "        state  = new_state\n",
    "        rewards_current_episode += reward\n",
    "        \n",
    "        if done == True:\n",
    "            break\n",
    "            \n",
    "        #decaying exploration rate\n",
    "    exploration_rate = min_exploration_rate + (max_exploration_rate)*np.exp(-exploration_decay_rate*episodes)\n",
    "    rewards_all_episodes.append(rewards_current_episode)\n",
    "\n",
    "#calculate the reward per thousand episodes\n",
    "rewards_per_thousand_episodes = np.split(np.array(rewards_all_episodes),10)\n",
    "count = 1000\n",
    "\n",
    "#print(\"*************** avarage rewards per thousand episodes*******************\")\n",
    "\n",
    "for r in rewards_per_thousand_episodes:\n",
    "    print(count, \":\" , str(sum(r/1000)))\n",
    "    count +=1000\n",
    "    \n",
    "print(\"\\n\\n************the updated Q_table**************\")\n",
    "print(q_table)"
   ]
  },
  {
   "cell_type": "code",
   "execution_count": 44,
   "id": "45a790b1",
   "metadata": {},
   "outputs": [
    {
     "name": "stdout",
     "output_type": "stream",
     "text": [
      "***** You reached the goal! ****\n"
     ]
    }
   ],
   "source": [
    "for episode in range(3):\n",
    "    state = env.reset()\n",
    "    done = False\n",
    "    print(\"*********Episode \",episode+1 ,\" ********\\n\\n\\n\")\n",
    "    time.sleep(0.5)\n",
    "    \n",
    "    for step in range(max_steps_per_episode):\n",
    "        clear_output(wait=True)\n",
    "        env.render()\n",
    "        time.sleep(0.3)\n",
    "        \n",
    "        action = np.argmax(q_table[state,:])\n",
    "        new_state, reward,done, info = env.step(action)\n",
    "        if done:\n",
    "            clear_output(wait=True)\n",
    "            env.render()\n",
    "\n",
    "            if reward == 1:\n",
    "                print(\"***** You reached the goal! ****\")\n",
    "                time.sleep(2)\n",
    "\n",
    "            else:\n",
    "                print(\"********You fell into a hole! ********\")\n",
    "                time.sleep(2)\n",
    "\n",
    "            clear_output(wait=True)\n",
    "            break\n",
    "\n",
    "        state = new_state\n",
    "\n",
    "env.close()"
   ]
  },
  {
   "cell_type": "code",
   "execution_count": null,
   "id": "453cd8fa",
   "metadata": {},
   "outputs": [],
   "source": []
  },
  {
   "cell_type": "code",
   "execution_count": null,
   "id": "bd51b460",
   "metadata": {},
   "outputs": [],
   "source": []
  }
 ],
 "metadata": {
  "kernelspec": {
   "display_name": "Python 3 (ipykernel)",
   "language": "python",
   "name": "python3"
  },
  "language_info": {
   "codemirror_mode": {
    "name": "ipython",
    "version": 3
   },
   "file_extension": ".py",
   "mimetype": "text/x-python",
   "name": "python",
   "nbconvert_exporter": "python",
   "pygments_lexer": "ipython3",
   "version": "3.9.7"
  }
 },
 "nbformat": 4,
 "nbformat_minor": 5
}
